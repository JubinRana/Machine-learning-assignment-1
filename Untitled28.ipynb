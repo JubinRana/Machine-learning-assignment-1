{
 "cells": [
  {
   "cell_type": "code",
   "execution_count": 1,
   "id": "173004e7-b232-47f9-8f5b-f88085271fff",
   "metadata": {},
   "outputs": [],
   "source": [
    "#1 What is a parameter?"
   ]
  },
  {
   "cell_type": "code",
   "execution_count": 3,
   "id": "17789d5e-16b4-4feb-8f02-9845aff16016",
   "metadata": {},
   "outputs": [],
   "source": [
    "#A parameter in machine learning is a variable that is learned from data and used to make predictions.\n",
    "#Example\n",
    "#In a simple linear regression model, the parameters are the slope of the line (m) and the intercept of the line (c). These parameters are calculated by fitting the line to the data."
   ]
  },
  {
   "cell_type": "code",
   "execution_count": 5,
   "id": "d45e252b-46fe-4a95-a370-53352a6d90af",
   "metadata": {},
   "outputs": [],
   "source": [
    "#2 What is correlation? What does negative correlation mean?"
   ]
  },
  {
   "cell_type": "code",
   "execution_count": 7,
   "id": "be922f72-431e-4ac6-b81b-1ed1caf2bb4a",
   "metadata": {},
   "outputs": [],
   "source": [
    "#Correlation refers to a statistical relationship or association between two or more variables. It quantifies how one variable changes in relation to another.\n",
    "#Negative Correlation: If one variable increases while the other decreases, they are said to have a negative correlation. For example, as the amount of exercise increases, body fat percentage might decrease. Here, the variables move in opposite directions."
   ]
  },
  {
   "cell_type": "code",
   "execution_count": 9,
   "id": "96ace3f6-c84f-4bea-8a2d-00099d2e068d",
   "metadata": {},
   "outputs": [],
   "source": [
    "#3 Define Machine Learning. What are the main components in Machine Learning?"
   ]
  },
  {
   "cell_type": "code",
   "execution_count": 11,
   "id": "f70718fa-70ee-4bc4-94cd-9ec251440052",
   "metadata": {},
   "outputs": [],
   "source": [
    "#Machine Learning (ML) is a branch of artificial intelligence (AI) that focuses on developing algorithms and statistical models that allow computers to \"learn\" from data and make predictions or decisions without explicit programming. The key idea behind ML is that systems can learn from patterns in data and improve their performance over time by using this experience.\n",
    "#Main Components of Machine Learning\n",
    "#The main components of a machine learning system can be broken down into the following key areas:\n",
    "\n",
    "#1. Data:\n",
    "\n",
    "#Data is the foundation of machine learning. It includes the raw input that the model will learn from. Data can be in various forms such as numbers, text, images, or audio.\n",
    "#The quality, quantity, and type of data are crucial for training an accurate and effective model. Typically, data is split into training, testing, and validation datasets.\n",
    "\n",
    "#2. Model:\n",
    "\n",
    "#The model is the algorithm or mathematical structure that learns patterns from the data. It is the core of the machine learning system. Examples include linear regression, decision trees, support vector machines (SVMs), and neural networks.\n",
    "#The model's structure defines how the relationships in the data will be represented and used for predictions.\n",
    "\n",
    "#3. Features (or Variables):\n",
    "\n",
    "#Features are individual measurable properties or characteristics of the data. These are the input variables used by the machine learning model to learn patterns. For example, in a dataset about houses, features could include square footage, number of rooms, and location.\n",
    "#Proper selection of relevant features (feature engineering) plays a significant role in the success of the model.\n",
    "\n",
    "#4. Learning Algorithm:\n",
    "\n",
    "#The learning algorithm is the procedure used to train the model on the data. It uses mathematical optimization techniques to adjust the model’s parameters so that it can make accurate predictions or decisions.\n",
    "#Common algorithms include gradient descent, genetic algorithms, and backpropagation (for neural networks).\n",
    "\n",
    "#5. Training:\n",
    "\n",
    "#Training is the process where the model is fed with the training data, and it learns the patterns or relationships in the data.\n",
    "#The model adjusts its internal parameters to minimize errors (e.g., through loss functions) and improve its predictions over time.\n",
    "\n",
    "#6. Evaluation:\n",
    "\n",
    "#Once the model is trained, it is evaluated using a separate dataset (test data) that the model hasn't seen before. This is done to check how well the model generalizes to new, unseen data.\n",
    "#Common evaluation metrics include accuracy, precision, recall, F1 score, and mean squared error (MSE), depending on the type of problem (e.g., classification or regression).\n",
    "\n",
    "#7. Prediction:\n",
    "\n",
    "#After training and evaluation, the model is used to make predictions on new, unseen data. The predictions are based on the patterns the model has learned from the training data.\n",
    "#The goal is to use the trained model to make accurate predictions on real-world data.\n",
    "\n",
    "#8. Feedback and Improvement:\n",
    "\n",
    "#In some machine learning systems, there’s a feedback loop where the model continues to improve over time. New data or corrected predictions might be used to retrain or fine-tune the model to enhance its performance."
   ]
  },
  {
   "cell_type": "code",
   "execution_count": 13,
   "id": "91a8a436-67c9-437d-a4cf-b887bfc41650",
   "metadata": {},
   "outputs": [],
   "source": [
    "#4 How does loss value help in determining whether the model is good or not?"
   ]
  },
  {
   "cell_type": "code",
   "execution_count": 17,
   "id": "65d75cc2-4467-4823-a656-a21067e0ca1c",
   "metadata": {},
   "outputs": [],
   "source": [
    "#The loss value is a critical metric in machine learning that helps evaluate how well a model is performing. It measures the difference between the model's predictions and the actual target values. The loss value provides insight into how far off the model's predictions are from the true outcomes, and it plays a key role in training, improving, and assessing the model.\n",
    "#A good model typically has a low loss value, which indicates its predictions are close to the actual outcomes.\n",
    "#By minimizing the loss value, you can improve the model's ability to make accurate predictions, and by tracking it, you can identify issues like overfitting or underfitting.\n"
   ]
  },
  {
   "cell_type": "code",
   "execution_count": 19,
   "id": "e79f3888-a47a-4237-b1fd-5c5eacf8cb69",
   "metadata": {},
   "outputs": [],
   "source": [
    "#5 What are continuous and categorical variables?\n"
   ]
  },
  {
   "cell_type": "raw",
   "id": "abcd7bcf-2591-47be-8bb2-90176988f974",
   "metadata": {},
   "source": [
    "1. Continuous Variables\n",
    "A continuous variable (also known as a numerical or quantitative variable) is one that can take any value within a given range. These variables can have an infinite number of possible values between any two points. They typically represent measurable quantities.\n",
    "Examples:\n",
    "Height: A person’s height could be 170 cm, 170.5 cm, or even 170.55 cm, etc.\n",
    "Weight: A person’s weight can be 68 kg, 68.1 kg, or 68.12 kg.\n",
    "Temperature: The temperature can be 25°C, 25.3°C, or 25.333°C.\n",
    "Time: Time can be expressed in hours, minutes, and seconds, with infinite precision.\n",
    "\n",
    "2. Categorical Variables\n",
    "A categorical variable (also called a qualitative variable) is one that can take on a limited, fixed number of values or categories. These values are discrete and represent different groups or classifications.\n",
    "Examples:\n",
    "Gender: Male, Female, Non-binary (Nominal)\n",
    "Blood Type: A, B, AB, O (Nominal)\n",
    "Survey Rating: Poor, Average, Good, Excellent (Ordinal)\n",
    "Education Level: High School, College, Graduate (Ordinal)"
   ]
  },
  {
   "cell_type": "raw",
   "id": "5e425560-4797-4957-a293-8c015c1c6e1c",
   "metadata": {},
   "source": [
    "6. How do we handle categorical variables in Machine Learning? What are the common t\n",
    "echniques?"
   ]
  },
  {
   "cell_type": "raw",
   "id": "b92fe3d4-75cf-49d6-9961-212de3f2533e",
   "metadata": {},
   "source": [
    "Handling categorical variables is an important step in machine learning because most algorithms require numerical input to perform computations. Since categorical variables contain non-numeric labels, they need to be transformed into a format that machine learning algorithms can process. There are several techniques available for encoding categorical variables, each suited to different types of problems.\n",
    "\n",
    "Here are the common techniques to handle categorical variables in machine learning:\n",
    "\n",
    "1. Label Encoding\n",
    "Label encoding is a technique where each unique category is assigned an integer value. This is useful when the categorical variable has an inherent order (i.e., ordinal variables), such as educational levels (e.g., High School = 1, College = 2, Graduate = 3).\n",
    "\n",
    "How it works:\n",
    "Each category in the variable is mapped to a unique integer.\n",
    "For example, if we have a feature \"Education\" with values: [\"High School\", \"College\", \"Graduate\"], label encoding might convert these to:\n",
    "- High School → 0\n",
    "- College → 1\n",
    "- Graduate → 2\n",
    "\n",
    "2. One-Hot Encoding\n",
    "One-hot encoding is a technique where each category in a categorical variable is converted into a binary vector (0s and 1s). For each unique category, a new column is created, and it is marked as 1 for the presence of that category and 0 for all other categories.\n",
    "\n",
    "How it works:\n",
    "A new column is created for each unique category in the categorical variable.\n",
    "If we have a feature \"Color\" with values: [\"Red\", \"Green\", \"Blue\"], one-hot encoding would create three new columns:\n",
    "- Red → [1, 0, 0]\n",
    "- Green → [0, 1, 0]\n",
    "- Blue → [0, 0, 1]\n",
    "\n",
    "3. Target Encoding (Mean Encoding)\n",
    "Target encoding involves replacing each category in a categorical variable with the mean of the target variable for that category. This is useful when there is a strong relationship between the categorical feature and the target variable.\n",
    "\n",
    "How it works:\n",
    "For each category, calculate the mean of the target variable corresponding to that category.\n",
    "Replace the categorical value with this mean value.\n",
    "For example, if the target variable is \"Price\" and the categorical feature is \"Color\", the encoding might replace the colors with the average price for each color:\n",
    "\n",
    "- Red → Mean Price for Red\n",
    "- Green → Mean Price for Green\n",
    "- Blue → Mean Price for Blue\n",
    "\n",
    "4. Binary Encoding\n",
    "Binary encoding is a compromise between label encoding and one-hot encoding. It converts the categories into binary numbers and splits them into separate columns. This method reduces the dimensionality compared to one-hot encoding while preserving the uniqueness of each category.\n",
    "\n",
    "How it works:\n",
    "Each category is first converted into a unique integer (like label encoding).\n",
    "Then, the integer is converted to binary.\n",
    "Finally, each bit of the binary number is placed into a separate column.\n",
    "For example, if the categories are [\"Red\", \"Green\", \"Blue\"], they might be encoded as follows:\n",
    "\n",
    "- Red → 1 → [0, 0, 1]\n",
    "- Green → 2 → [0, 1, 0]\n",
    "- Blue → 3 → [0, 1, 1]"
   ]
  },
  {
   "cell_type": "code",
   "execution_count": null,
   "id": "ced526c1-ebfe-4a04-8a92-ae748d70c9aa",
   "metadata": {},
   "outputs": [],
   "source": [
    "#7 What do you mean by training and testing a dataset?"
   ]
  },
  {
   "cell_type": "raw",
   "id": "09faf635-0b38-4bc0-a86b-77a67bc58ee0",
   "metadata": {},
   "source": [
    "1. Training a Dataset\n",
    "Training a dataset means using a portion of the data to teach the model patterns, relationships, and underlying structures that it can later use to make predictions or decisions. The model learns from this data by adjusting its internal parameters to minimize the error (or loss).Typically around 70%-80% of the total data used to train the model.\n",
    "\n",
    "2. Testing a Dataset\n",
    "Testing a dataset involves using a separate portion of the data to evaluate how well the model performs after it has been trained. This is crucial for assessing whether the model can generalize its learning to new, unseen data, which is often different from the data it was trained on.Typically around 20%-30% of the total data that is not used during training."
   ]
  },
  {
   "cell_type": "code",
   "execution_count": 22,
   "id": "69ca05ea-fa4e-4b37-8841-2d3ae541fddb",
   "metadata": {},
   "outputs": [],
   "source": [
    "#8 What is sklearn.preprocessing?"
   ]
  },
  {
   "cell_type": "raw",
   "id": "3ec1f6a5-f083-4d55-a0e1-a0aaa4240b15",
   "metadata": {},
   "source": [
    "The sklearn.preprocessing module in Scikit-learn (a popular machine learning library in Python) provides a set of utilities and functions that help prepare and transform data into formats that are more suitable for machine learning algorithms. Preprocessing is an essential step in the machine learning pipeline because raw data is often in formats that may not be suitable for models, requiring transformations such as scaling, encoding, or normalization.\n",
    "\n",
    "The primary purpose of sklearn.preprocessing is to apply various transformations to features (input variables) to improve the performance and convergence of machine learning models."
   ]
  },
  {
   "cell_type": "code",
   "execution_count": 24,
   "id": "73fc0da6-e492-49c8-b263-f367ccf43a50",
   "metadata": {},
   "outputs": [],
   "source": [
    "#9 What is a Test set?"
   ]
  },
  {
   "cell_type": "raw",
   "id": "3ad0cf56-b399-4ee8-8878-84c3fd16be06",
   "metadata": {},
   "source": [
    "A test set refers to a subset of data that is used to evaluate the performance of a trained machine learning model. The main goal of the test set is to assess how well the model generalizes to new, unseen data — that is, to understand how well it will perform on real-world data that it hasn't encountered before.\n",
    "\n",
    "The test set is kept separate from the training data, and it is only used after the model has been trained. By testing the model on this unseen data, you can evaluate its accuracy, precision, recall, and other performance metrics."
   ]
  },
  {
   "cell_type": "code",
   "execution_count": 26,
   "id": "07956960-15f6-4619-bd07-096dcbac76a2",
   "metadata": {},
   "outputs": [],
   "source": [
    "#10 How do we split data for model fitting (training and testing) in Python? How do you approach a Machine Learning problem?"
   ]
  },
  {
   "cell_type": "raw",
   "id": "d6a9eedc-5950-41b3-9265-34ec800b14de",
   "metadata": {},
   "source": [
    "#Splitting Data for Model Fitting (Training and Testing) in Python\n",
    "#In machine learning, splitting the data into training and test sets is a critical step to ensure that your model can generalize well to unseen data. The most common way to split the data is to use a function like train_test_split() from Scikit-learn, a popular Python machine learning library.\n",
    "# Assuming you have a dataset X (features) and y (target labels)\n",
    "#from sklearn.model_selection import train_test_split\n",
    "\n",
    "#X = data.drop('target', axis=1)\n",
    "#y = data['target'] \n",
    "#X_train, X_test, y_train, y_test = train_test_split(X, y, test_size=0.2, random_state=42)\n",
    "\n",
    "#How to Approach a Machine Learning Problem\n",
    "#Approaching a machine learning problem involves several key steps, from understanding the problem to building and evaluating the model. Here's a general workflow to approach machine learning problems:\n",
    "\n",
    "1. Understand the Problem: Determine the type of machine learning problem — is it classification (predicting labels), regression (predicting continuous values), clustering (grouping data), etc.?\n",
    "\n",
    "2. Data Collection: Gather the data that’s relevant to the problem. This could involve collecting data from multiple sources such as databases, files, APIs, etc.\n",
    "\n",
    "3. Data Exploration: Perform Exploratory Data Analysis (EDA) to understand the structure of the data, visualize it, and identify patterns, trends, or anomalies.\n",
    "\n",
    "4. Choose a Model\n",
    "\n",
    "Based on the problem type (classification, regression, etc.), choose a suitable machine learning algorithm:\n",
    "\n",
    "Classification: Decision trees, logistic regression, support vector machines (SVM), random forests, etc.\n",
    "\n",
    "Regression: Linear regression, decision trees, random forests, etc.\n",
    "\n",
    "Clustering: K-means, hierarchical clustering, DBSCAN, etc.\n",
    "\n",
    "Neural Networks: For complex problems, especially when dealing with large datasets or unstructured data (images, text).\n",
    "\n",
    "5. Model Training: Use the training data to train your model. The model will learn patterns in the data to make predictions.\n",
    "\n",
    "6. Evaluate the Performance: After training the model, evaluate it using the test set or through cross-validation.\n",
    "\n",
    "7.  Improve the Model\n",
    "\n",
    "8. Deploying the Model: Once the model is performing well, deploy it into a production environment where it can start making predictions on new, real-world data."
   ]
  },
  {
   "cell_type": "code",
   "execution_count": 32,
   "id": "a74a7166-62e8-462f-b01b-a0cda128ed43",
   "metadata": {},
   "outputs": [],
   "source": [
    "#11 Why do we have to perform EDA before fitting a model to the data?"
   ]
  },
  {
   "cell_type": "raw",
   "id": "28657ff9-05c4-4d3b-acd1-b6e3ad30e386",
   "metadata": {},
   "source": [
    "Exploratory Data Analysis (EDA) is a crucial step in the machine learning pipeline that involves analyzing and visualizing the dataset before applying any machine learning models. The purpose of EDA is to better understand the data's structure, relationships, and potential issues. Performing EDA before fitting a model is essential for several reasons:\n",
    "\n",
    "1. Understanding Data Distribution and Patterns.\n",
    "\n",
    "2. Identifying Missing Values.\n",
    "\n",
    "3. Detecting Outliers\n",
    "\n",
    "4. Understanding Relationships Between Variables"
   ]
  },
  {
   "cell_type": "code",
   "execution_count": 34,
   "id": "762ce46a-bd08-42b7-88fc-1b24352fd905",
   "metadata": {},
   "outputs": [],
   "source": [
    "#12 What is correlation?"
   ]
  },
  {
   "cell_type": "code",
   "execution_count": 36,
   "id": "37c219c1-d366-4ffb-9c6f-b0b79f78cc31",
   "metadata": {},
   "outputs": [],
   "source": [
    "#Correlation refers to a statistical relationship or association between two or more variables. It quantifies how one variable changes in relation to another."
   ]
  },
  {
   "cell_type": "code",
   "execution_count": 38,
   "id": "a19353f0-0adf-41ba-be1d-885998d921e5",
   "metadata": {},
   "outputs": [],
   "source": [
    "#13 What does negative correlation mean?\n"
   ]
  },
  {
   "cell_type": "code",
   "execution_count": 40,
   "id": "a010847b-c0ff-47fa-96ac-3d4367375ec1",
   "metadata": {},
   "outputs": [],
   "source": [
    "#Negative Correlation: If one variable increases while the other decreases, they are said to have a negative correlation. For example, as the amount of exercise increases, body fat percentage might decrease. Here, the variables move in opposite directions."
   ]
  },
  {
   "cell_type": "code",
   "execution_count": 42,
   "id": "5fecc2c8-8cbb-4dcd-bde0-1ac01d5f49c0",
   "metadata": {},
   "outputs": [],
   "source": [
    "#14 How can you find correlation between variables in Python?"
   ]
  },
  {
   "cell_type": "code",
   "execution_count": 46,
   "id": "fc7bdb4d-555f-4914-8d49-f4f01f16b5bc",
   "metadata": {},
   "outputs": [
    {
     "name": "stdout",
     "output_type": "stream",
     "text": [
      "     A    B    C\n",
      "A  1.0 -1.0  1.0\n",
      "B -1.0  1.0 -1.0\n",
      "C  1.0 -1.0  1.0\n"
     ]
    },
    {
     "data": {
      "image/png": "[encoded data removed]",
      "text/plain": [
       "<Figure size 800x600 with 2 Axes>"
      ]
     },
     "metadata": {},
     "output_type": "display_data"
    }
   ],
   "source": [
    "#In Python, you can find the correlation between variables using libraries like Pandas and Seaborn. These libraries offer a variety of methods to calculate and visualize correlation between variables in a dataset.\n",
    "\n",
    "#1. Using Pandas\n",
    "import pandas as pd\n",
    "\n",
    "\n",
    "data = {'A': [1, 2, 3, 4, 5],\n",
    "    'B': [5, 4, 3, 2, 1],\n",
    "    'C': [1, 3, 5, 7, 9],}\n",
    "df = pd.DataFrame(data)\n",
    "corr_matrix = df.corr()\n",
    "\n",
    "print(corr_matrix)\n",
    "\n",
    "#2. Using Seaborn\n",
    "\n",
    "import seaborn as sns\n",
    "import matplotlib.pyplot as plt\n",
    "\n",
    "corr_matrix = df.corr()\n",
    "\n",
    "plt.figure(figsize=(8, 6))\n",
    "sns.heatmap(corr_matrix, annot=True, cmap='coolwarm', linewidths=0.5)\n",
    "plt.title('Correlation Heatmap')\n",
    "plt.show()\n",
    "\n"
   ]
  },
  {
   "cell_type": "code",
   "execution_count": 48,
   "id": "d5db5496-eea2-4e68-b180-afae8d8a390d",
   "metadata": {},
   "outputs": [],
   "source": [
    "#15 What is causation? Explain difference between correlation and causation with an example."
   ]
  },
  {
   "cell_type": "raw",
   "id": "ed583188-5988-48ad-a3ab-5d50f1fcf4e6",
   "metadata": {},
   "source": [
    "Causation refers to the concept that one event (the cause) directly leads to another event (the effect). In other words, causality means that changes in one variable directly bring about changes in another variable. The relationship between the two variables is direct and unidirectional — the cause precedes and influences the effect.\n",
    "- Directional — one variable causes a change in the other.\n",
    "- One variable directly affects the other.\n",
    "- Direct implication of a cause and effect.\n",
    "\n",
    "For example, if you push a ball, it moves — pushing the ball (cause) directly leads to the ball's movement (effect). Causation implies a cause-and-effect relationship.\n",
    "\n",
    "Correlation refers to a statistical relationship or pattern between two variables. It means that the values of two variables tend to change in a predictable manner with respect to each other, but it does not imply a cause-and-effect relationship.\n",
    "- Does not indicate directionality.\n",
    "- May be positive, negative, or no relationship.\n",
    "- \tDoes not imply that one variable causes the other."
   ]
  },
  {
   "cell_type": "code",
   "execution_count": 50,
   "id": "248413b0-f6c2-4610-ab1d-3e6853c16755",
   "metadata": {},
   "outputs": [],
   "source": [
    "#16 What is an Optimizer? What are different types of optimizers? Explain each with an example."
   ]
  },
  {
   "cell_type": "code",
   "execution_count": 54,
   "id": "18179dce-8d4c-4af4-af24-dabd47cfedbd",
   "metadata": {},
   "outputs": [],
   "source": [
    "#optimizer-> In machine learning and deep learning, an optimizer is an algorithm or method used to minimize or maximize the objective function (often called the loss function or cost function). The goal of an optimizer is to adjust the model's parameters (e.g., weights in neural networks) in such a way that the model performs better, typically by minimizing the error between the predicted outputs and the actual target values.\n",
    "\n",
    "#Types of Optimizers\n",
    "#There are several types of optimizers in machine learning, and they vary in how they compute and update the gradients. Below are the common types:\n",
    "\n",
    "#1. Stochastic Gradient Descent (SGD)\n",
    "\n",
    "#It randomly selects a single data point (or a small batch) and calculates the gradient.\n",
    "#The parameters are updated in the direction of the negative gradient.\n",
    "\n",
    "#from sklearn.linear_model import SGDClassifier\n",
    "\n",
    "#sgd = SGDClassifier(loss=\"log\", max_iter=1000, tol=1e-3)\n",
    "#sgd.fit(X_train, y_train) \n",
    "#( X_train and y_train are your features and labels)\n",
    "\n",
    "#2.  Mini-batch Gradient Descent\n",
    "\n",
    "#The dataset is divided into small batches, and each batch is used to compute gradients and update the model's parameters.\n",
    "#example\n",
    "#from sklearn.neural_network import MLPClassifier\n",
    "\n",
    "#mlp = MLPClassifier(hidden_layer_sizes=(100,), max_iter=1000, solver=\"sgd\", batch_size=32)\n",
    "#mlp.fit(X_train, y_train)\n",
    "#( X_train and y_train are your features and labels)\n",
    "\n",
    "#3. Adaptive Gradient Algorithm (Adagrad)\n",
    "\n",
    "#Adagrad adapts the learning rate based on the historical gradients, reducing the learning rate for frequently updated parameters.\n",
    "#example. \n",
    "\n",
    "#from keras.optimizers import Adagrad\n",
    "\n",
    "#adagrad = Adagrad(learning_rate=0.01)\n",
    "#model.compile(optimizer=adagrad, loss='categorical_crossentropy', metrics=['accuracy'])\n"
   ]
  },
  {
   "cell_type": "code",
   "execution_count": 56,
   "id": "e814977d-33c7-4061-bfc5-d5293500dd85",
   "metadata": {},
   "outputs": [],
   "source": [
    "#17. What is sklearn.linear_model ?\n"
   ]
  },
  {
   "cell_type": "raw",
   "id": "87ef2fcf-c262-4817-87b9-83aa2fd11021",
   "metadata": {},
   "source": [
    "sklearn.linear_model is a module in the Scikit-learn library that provides a range of linear models for machine learning tasks such as regression, classification, and more. These models are based on linear assumptions, meaning that the relationship between the input variables (features) and the output variable (target) is modeled as a linear function.\n",
    "\n",
    "Common Linear Models in sklearn.linear_model are:\n",
    "\n",
    "1. Linear Regression \n",
    "\n",
    "2. Logistic Regression\n",
    "\n",
    "3. Ridge Regression\n",
    "\n",
    "4. RANSAC Regression "
   ]
  },
  {
   "cell_type": "code",
   "execution_count": 58,
   "id": "ed871b16-22ad-4242-8702-fb873a42f00a",
   "metadata": {},
   "outputs": [],
   "source": [
    "#18 What does model.fit() do? What arguments must be given?"
   ]
  },
  {
   "cell_type": "raw",
   "id": "4a6fa13d-7b20-44bd-a784-0c60fa92042f",
   "metadata": {},
   "source": [
    "In machine learning, the fit() method is used to train a model using a training dataset. It learns from the data by adjusting its internal parameters (such as weights and biases) to minimize the error (or loss function) between the predicted outputs and the true values in the training data. This process is commonly known as model training.\n",
    "\n",
    "When you call model.fit(), the model performs the following steps:\n",
    "\n",
    "- Takes in training data: It accepts the input features (X) and the corresponding target labels (y).\n",
    "- Trains the model: The model then uses these inputs and labels to adjust its parameters. For example:\n",
    "- In linear regression, the model adjusts the coefficients (weights) to minimize the difference between the predicted values and actual target values.\n",
    "- In classification problems, the model adjusts its decision boundary or class probabilities.\n",
    "- Learns patterns: Over multiple iterations (epochs), the model uses algorithms like gradient descent to optimize its parameters based on the data.\n",
    "\n",
    "Arguments that must be given to model.fit():\n",
    "The two main arguments that must be provided are:\n",
    "\n",
    "1. X (features): The input data, often referred to as the feature matrix or independent variables. This is typically a 2D array, where each row is a data point (observation), and each column represents a feature (variable).\n",
    "\n",
    "Shape: (n_samples, n_features)\n",
    "Example: In a dataset with 100 samples and 5 features, X would have the shape (100, 5).\n",
    "\n",
    "2. y (target/labels): The target data, which contains the true output labels for the training samples. This is often a 1D array or 2D array depending on the type of task (regression or classification).\n",
    "\n",
    "Shape: (n_samples,) for a single-output regression or classification, or (n_samples, n_targets) for multi-output tasks.\n",
    "Example: For a binary classification problem, y might be a 1D array with 100 labels corresponding to 100 samples."
   ]
  },
  {
   "cell_type": "code",
   "execution_count": 60,
   "id": "f7ac71e1-959e-4e73-90eb-2a45f66d0505",
   "metadata": {},
   "outputs": [],
   "source": [
    "#19 What does model.predict() do? What arguments must be given?"
   ]
  },
  {
   "cell_type": "raw",
   "id": "26f500b8-a8ac-4e98-815e-9e128b18586b",
   "metadata": {},
   "source": [
    "The model.predict() method is used to make predictions on new, unseen data after a model has been trained using the fit() method. Once a model has learned the patterns from the training data, predict() allows you to input new data (test data or unseen samples) and obtain the predicted output or labels based on what the model has learned.\n",
    "\n",
    "Arguments that must be given to model.predict():\n",
    "\n",
    "The primary argument for predict() is:\n",
    "\n",
    "1. X (features): The input data for which you want to make predictions. This should be a 2D array (for a single feature matrix) where:\n",
    "Shape: (n_samples, n_features)\n",
    "- n_samples: The number of samples (or test instances) you want to predict.\n",
    "- n_features: The number of features (variables) for each sample. It must match the number of features the model was trained on.\n",
    "If you're making predictions for one single instance (1 sample), the input can still be in 2D form with a single row (e.g., [[1, 2, 3]]), even though it's only one sample."
   ]
  },
  {
   "cell_type": "code",
   "execution_count": 62,
   "id": "73b58435-e77a-453f-90bb-e611e7974b84",
   "metadata": {},
   "outputs": [],
   "source": [
    "#20 What are continuous and categorical variables?"
   ]
  },
  {
   "cell_type": "raw",
   "id": "bdeb9463-c7f7-4e61-b6f8-06b5e62f18a7",
   "metadata": {},
   "source": [
    "1. Continuous Variables\n",
    "A continuous variable (also known as a numerical or quantitative variable) is one that can take any value within a given range. These variables can have an infinite number of possible values between any two points. They typically represent measurable quantities.\n",
    "Examples:\n",
    "Height: A person’s height could be 170 cm, 170.5 cm, or even 170.55 cm, etc.\n",
    "Weight: A person’s weight can be 68 kg, 68.1 kg, or 68.12 kg.\n",
    "Temperature: The temperature can be 25°C, 25.3°C, or 25.333°C.\n",
    "Time: Time can be expressed in hours, minutes, and seconds, with infinite precision.\n",
    "\n",
    "2. Categorical Variables\n",
    "A categorical variable (also called a qualitative variable) is one that can take on a limited, fixed number of values or categories. These values are discrete and represent different groups or classifications.\n",
    "Examples:\n",
    "Gender: Male, Female, Non-binary (Nominal)\n",
    "Blood Type: A, B, AB, O (Nominal)\n",
    "Survey Rating: Poor, Average, Good, Excellent (Ordinal)\n",
    "Education Level: High School, College, Graduate (Ordinal)"
   ]
  },
  {
   "cell_type": "code",
   "execution_count": 64,
   "id": "1bc87adf-5f0a-4e80-861f-9927e3fcfb80",
   "metadata": {},
   "outputs": [],
   "source": [
    "#21 What is feature scaling? How does it help in Machine Learning?"
   ]
  },
  {
   "cell_type": "raw",
   "id": "40b964a1-e702-450b-8adc-8ede8ad70143",
   "metadata": {},
   "source": [
    "Feature scaling is the process of standardizing or normalizing the values of numerical features in a dataset. The goal of feature scaling is to transform the features so that they are on a similar scale, which helps the machine learning model perform better and learn more effectively. In raw data, features can have different units and ranges (e.g., age in years vs. income in thousands), which may lead to issues during model training.\n",
    "\n",
    "Feature scaling ensures that each feature contributes equally to the model's performance, which is especially important for models that rely on distance calculations or gradient-based optimization algorithms.\n",
    "\n",
    "Why is Feature Scaling Important in Machine Learning?\n",
    "\n",
    "1. Improves Model Performance.\n",
    "2. Faster Convergence in Gradient Descent.\n",
    "3. Avoids Bias in Distance-Based Algorithms.\n",
    "4. Improves Interpretability:"
   ]
  },
  {
   "cell_type": "code",
   "execution_count": 66,
   "id": "775967e3-96fc-4a61-9848-32534f21133c",
   "metadata": {},
   "outputs": [],
   "source": [
    "#22 How do we perform scaling in Python?"
   ]
  },
  {
   "cell_type": "code",
   "execution_count": 70,
   "id": "c683207d-708c-4b86-8f7d-04b87e8607a1",
   "metadata": {},
   "outputs": [
    {
     "name": "stdout",
     "output_type": "stream",
     "text": [
      "Scaled Data (Min-Max Scaling):\n",
      "[[0.    0.   ]\n",
      " [0.25  0.375]\n",
      " [0.5   0.25 ]\n",
      " [0.75  1.   ]\n",
      " [1.    0.75 ]]\n",
      "Scaled Data (Standardization):\n",
      "[[-1.41421356 -1.33026608]\n",
      " [-0.70710678 -0.28005602]\n",
      " [ 0.         -0.63012604]\n",
      " [ 0.70710678  1.47029409]\n",
      " [ 1.41421356  0.77015405]]\n"
     ]
    }
   ],
   "source": [
    "\n",
    "#In Python, scaling of features can be easily done using the scikit-learn library, which provides built-in classes for different types of scaling techniques, such as Normalization (Min-Max Scaling) and Standardization (Z-score Scaling).\n",
    "\n",
    "#1. Min-Max Scaling\n",
    "\n",
    "#Min-Max scaling transforms features by scaling them to a specific range, typically [0, 1]. This is useful when the model is sensitive to the range of features (e.g., K-Nearest Neighbors or neural networks).\n",
    "# Import necessary libraries\n",
    "from sklearn.preprocessing import MinMaxScaler\n",
    "import numpy as np\n",
    "\n",
    "X = np.array([[1, 2000], [2, 5000], [3, 4000], [4, 10000], [5, 8000]])\n",
    "\n",
    "scaler = MinMaxScaler()\n",
    "\n",
    "X_scaled = scaler.fit_transform(X)\n",
    "\n",
    "print(\"Scaled Data (Min-Max Scaling):\")\n",
    "print(X_scaled)\n",
    "\n",
    "#2. Standardization (Z-score Scaling)\n",
    "\n",
    "#Standardization scales the data such that each feature has a mean of 0 and a standard deviation of 1. This method is useful when the data follows a normal distribution or when the model assumes normally distributed features (e.g., Linear Regression, Logistic Regression).\n",
    "from sklearn.preprocessing import StandardScaler\n",
    "import numpy as np\n",
    "\n",
    "X = np.array([[1, 2000], [2, 5000], [3, 4000], [4, 10000], [5, 8000]])\n",
    "\n",
    "\n",
    "scaler = StandardScaler()\n",
    "\n",
    "X_scaled = scaler.fit_transform(X)\n",
    "\n",
    "print(\"Scaled Data (Standardization):\")\n",
    "print(X_scaled)\n"
   ]
  },
  {
   "cell_type": "code",
   "execution_count": 72,
   "id": "ef0c3e77-0769-46e4-8878-822bc9afeba8",
   "metadata": {},
   "outputs": [],
   "source": [
    "#23 What is sklearn.preprocessing?"
   ]
  },
  {
   "cell_type": "raw",
   "id": "2bf0633e-c692-4921-8d64-024ca3300040",
   "metadata": {},
   "source": [
    "sklearn.preprocessing is a module within the scikit-learn library that provides a collection of functions and classes for transforming and preparing data for machine learning models. These preprocessing techniques help in normalizing, standardizing, encoding, and scaling data to make it suitable for training machine learning algorithms.\n",
    "\n",
    "Proper preprocessing ensures that the model performs optimally and that its predictions are accurate, especially when the data varies in scale or contains categorical features."
   ]
  },
  {
   "cell_type": "code",
   "execution_count": 74,
   "id": "a470797d-9406-404a-a8cf-f6c3f430b936",
   "metadata": {},
   "outputs": [],
   "source": [
    "#24 How do we split data for model fitting (training and testing) in Python?"
   ]
  },
  {
   "cell_type": "code",
   "execution_count": 76,
   "id": "5ce9a1cd-aaec-405e-acfc-2916e2dfa827",
   "metadata": {},
   "outputs": [],
   "source": [
    "#Splitting Data for Model Fitting (Training and Testing) in Python\n",
    "#In machine learning, splitting the data into training and test sets is a critical step to ensure that your model can generalize well to unseen data. The most common way to split the data is to use a function like train_test_split() from Scikit-learn, a popular Python machine learning library.\n",
    "# Assuming you have a dataset X (features) and y (target labels)\n",
    "#from sklearn.model_selection import train_test_split\n",
    "\n",
    "#X = data.drop('target', axis=1)\n",
    "#y = data['target'] \n",
    "#X_train, X_test, y_train, y_test = train_test_split(X, y, test_size=0.2, random_state=42)"
   ]
  },
  {
   "cell_type": "code",
   "execution_count": 78,
   "id": "727372c6-8f13-47ff-b359-95945987c61e",
   "metadata": {},
   "outputs": [],
   "source": [
    "#25 Explain data encoding?"
   ]
  },
  {
   "cell_type": "raw",
   "id": "2dd1bbc9-43ce-4428-b2f3-83b9cd291b0c",
   "metadata": {},
   "source": [
    "Data encoding in machine learning refers to the process of converting categorical data (variables that contain labels or categories) into a format that can be fed into machine learning algorithms, which typically require numerical input. Since many algorithms can only work with numerical data, encoding ensures that categorical variables are transformed in a way that maintains their original information.\n",
    "\n",
    "Types of Categorical Data:\n",
    "\n",
    "1. Nominal: Categorical data with no inherent order or ranking (e.g., colors, city names, gender).\n",
    "2. Ordinal: Categorical data with a meaningful order or ranking (e.g., education level, customer satisfaction)."
   ]
  }
 ],
 "metadata": {
  "kernelspec": {
   "display_name": "Python 3 (ipykernel)",
   "language": "python",
   "name": "python3"
  },
  "language_info": {
   "codemirror_mode": {
    "name": "ipython",
    "version": 3
   },
   "file_extension": ".py",
   "mimetype": "text/x-python",
   "name": "python",
   "nbconvert_exporter": "python",
   "pygments_lexer": "ipython3",
   "version": "3.12.7"
  }
 },
 "nbformat": 4,
 "nbformat_minor": 5
}
